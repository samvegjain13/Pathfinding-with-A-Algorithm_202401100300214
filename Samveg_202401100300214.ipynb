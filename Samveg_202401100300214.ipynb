{
  "nbformat": 4,
  "nbformat_minor": 0,
  "metadata": {
    "colab": {
      "provenance": []
    },
    "kernelspec": {
      "name": "python3",
      "display_name": "Python 3"
    },
    "language_info": {
      "name": "python"
    }
  },
  "cells": [
    {
      "cell_type": "code",
      "execution_count": 1,
      "metadata": {
        "colab": {
          "base_uri": "https://localhost:8080/"
        },
        "id": "XXfl-T5GhpTd",
        "outputId": "ece3b701-11b1-4e88-d96c-d2b48e332d6a"
      },
      "outputs": [
        {
          "output_type": "stream",
          "name": "stdout",
          "text": [
            "Path found: [(0, 0), (1, 0), (2, 0), (2, 1), (2, 2), (3, 2), (3, 3), (3, 4), (4, 4)]\n"
          ]
        }
      ],
      "source": [
        "import heapq\n",
        "\n",
        "# A* algorithm to find the shortest path\n",
        "class Node:\n",
        "    def __init__(self, position, g_cost=0, h_cost=0, parent=None):\n",
        "        self.position = position  # (x, y) coordinates\n",
        "        self.g_cost = g_cost  # Cost from start to current node\n",
        "        self.h_cost = h_cost  # Estimated cost from current node to end\n",
        "        self.f_cost = g_cost + h_cost  # Total cost (f = g + h)\n",
        "        self.parent = parent  # Parent node to track the path\n",
        "\n",
        "    def __lt__(self, other):\n",
        "        return self.f_cost < other.f_cost\n",
        "\n",
        "def astar(start, end, grid):\n",
        "    open_list = []\n",
        "    closed_list = set()\n",
        "\n",
        "    # Start node\n",
        "    start_node = Node(start, g_cost=0, h_cost=heuristic(start, end))\n",
        "    heapq.heappush(open_list, start_node)\n",
        "\n",
        "    while open_list:\n",
        "        current_node = heapq.heappop(open_list)\n",
        "\n",
        "        if current_node.position == end:\n",
        "            path = []\n",
        "            while current_node:\n",
        "                path.append(current_node.position)\n",
        "                current_node = current_node.parent\n",
        "            return path[::-1]  # Return reversed path (from start to end)\n",
        "\n",
        "        closed_list.add(current_node.position)\n",
        "\n",
        "        for neighbor in get_neighbors(current_node, grid):\n",
        "            if neighbor in closed_list:\n",
        "                continue\n",
        "\n",
        "            g_cost = current_node.g_cost + 1\n",
        "            h_cost = heuristic(neighbor, end)\n",
        "            neighbor_node = Node(neighbor, g_cost=g_cost, h_cost=h_cost, parent=current_node)\n",
        "\n",
        "            if not any(open_node.position == neighbor and open_node.f_cost <= neighbor_node.f_cost for open_node in open_list):\n",
        "                heapq.heappush(open_list, neighbor_node)\n",
        "\n",
        "    return None  # Return None if no path found\n",
        "\n",
        "def heuristic(a, b):\n",
        "    # Manhattan distance heuristic\n",
        "    return abs(a[0] - b[0]) + abs(a[1] - b[1])\n",
        "\n",
        "def get_neighbors(node, grid):\n",
        "    x, y = node.position\n",
        "    neighbors = []\n",
        "\n",
        "    # Check 4 possible directions (left, right, up, down)\n",
        "    directions = [(-1, 0), (1, 0), (0, -1), (0, 1)]\n",
        "    for dx, dy in directions:\n",
        "        nx, ny = x + dx, y + dy\n",
        "        if 0 <= nx < len(grid) and 0 <= ny < len(grid[0]) and grid[nx][ny] == 0:\n",
        "            neighbors.append((nx, ny))\n",
        "\n",
        "    return neighbors\n",
        "\n",
        "# Example usage\n",
        "if __name__ == \"__main__\":\n",
        "    grid = [\n",
        "        [0, 1, 0, 0, 0],\n",
        "        [0, 1, 0, 1, 0],\n",
        "        [0, 0, 0, 1, 0],\n",
        "        [0, 1, 0, 0, 0],\n",
        "        [0, 0, 0, 1, 0]\n",
        "    ]\n",
        "\n",
        "    start = (0, 0)  # Starting position\n",
        "    end = (4, 4)    # End position\n",
        "\n",
        "    path = astar(start, end, grid)\n",
        "\n",
        "    if path:\n",
        "        print(\"Path found:\", path)\n",
        "    else:\n",
        "        print(\"No path found\")\n"
      ]
    }
  ]
}